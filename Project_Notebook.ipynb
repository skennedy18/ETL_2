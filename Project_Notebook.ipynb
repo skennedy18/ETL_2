{
 "cells": [
  {
   "cell_type": "code",
   "execution_count": 10,
   "metadata": {},
   "outputs": [],
   "source": [
    "import pandas as pd \n",
    "from sqlalchemy import create_engine "
   ]
  },
  {
   "cell_type": "code",
   "execution_count": 11,
   "metadata": {
    "scrolled": true
   },
   "outputs": [],
   "source": [
    "crimes_2019 = \"Crime2019.csv\"\n",
    "crimes2019_df = pd.read_csv(crimes_2019)\n",
    "\n",
    "\n",
    "crimes_2018 = \"Crimes2018.csv\"\n",
    "crimes2018_df = pd.read_csv(crimes_2018)\n",
    "crimes2018_df.head()\n",
    "\n",
    "joined_df = pd.concat([crimes2019_df, crimes2018_df]).dropna()\n",
    "\n",
    "new_crime_data = joined_df[['ID', 'Case Number', 'Date', 'IUCR','Description','Community Area' ]]\n"
   ]
  },
  {
   "cell_type": "code",
   "execution_count": 12,
   "metadata": {},
   "outputs": [],
   "source": [
    "police_stations = \"Police_Stations.csv\"\n",
    "police_stations_df = pd.read_csv(police_stations)\n",
    "stations_updated_df = police_stations_df[[\"DISTRICT\", \"DISTRICT NAME\",\"ADDRESS\", \"WEBSITE\"]]"
   ]
  },
  {
   "cell_type": "code",
   "execution_count": 19,
   "metadata": {},
   "outputs": [],
   "source": [
    "#Create Local Connection\n",
    "rds_connection_string = \"postgres:postgres@localhost:5432/ChicagoCrime_db\"\n",
    "engine = create_engine(f'postgresql://{rds_connection_string}')\n"
   ]
  },
  {
   "cell_type": "code",
   "execution_count": 20,
   "metadata": {},
   "outputs": [
    {
     "data": {
      "text/plain": [
       "['chicago_crime_fact', 'police_station']"
      ]
     },
     "execution_count": 20,
     "metadata": {},
     "output_type": "execute_result"
    }
   ],
   "source": [
    "engine.table_names()"
   ]
  },
  {
   "cell_type": "code",
   "execution_count": 21,
   "metadata": {},
   "outputs": [],
   "source": [
    "#Load Dataframe into SQL chicago_crime_fact table\n",
    "new_crime_data.to_sql(name='chicago_crime_fact', con=engine, if_exists='append', index=False)"
   ]
  },
  {
   "cell_type": "code",
   "execution_count": 22,
   "metadata": {},
   "outputs": [
    {
     "data": {
      "text/html": [
       "<div>\n",
       "<style scoped>\n",
       "    .dataframe tbody tr th:only-of-type {\n",
       "        vertical-align: middle;\n",
       "    }\n",
       "\n",
       "    .dataframe tbody tr th {\n",
       "        vertical-align: top;\n",
       "    }\n",
       "\n",
       "    .dataframe thead th {\n",
       "        text-align: right;\n",
       "    }\n",
       "</style>\n",
       "<table border=\"1\" class=\"dataframe\">\n",
       "  <thead>\n",
       "    <tr style=\"text-align: right;\">\n",
       "      <th></th>\n",
       "      <th>PRIMARY_KEY</th>\n",
       "      <th>ID</th>\n",
       "      <th>Case Number</th>\n",
       "      <th>Date</th>\n",
       "      <th>IUCR</th>\n",
       "      <th>Description</th>\n",
       "      <th>Community Area</th>\n",
       "    </tr>\n",
       "  </thead>\n",
       "  <tbody>\n",
       "    <tr>\n",
       "      <td>0</td>\n",
       "      <td>1</td>\n",
       "      <td>11936545</td>\n",
       "      <td>JC565127</td>\n",
       "      <td>2019-12-30</td>\n",
       "      <td>0810</td>\n",
       "      <td>OVER $500</td>\n",
       "      <td>3</td>\n",
       "    </tr>\n",
       "    <tr>\n",
       "      <td>1</td>\n",
       "      <td>2</td>\n",
       "      <td>11927752</td>\n",
       "      <td>JC554073</td>\n",
       "      <td>2019-12-20</td>\n",
       "      <td>0334</td>\n",
       "      <td>ATTEMPT ARMED - KNIFE / CUTTING INSTRUMENT</td>\n",
       "      <td>25</td>\n",
       "    </tr>\n",
       "    <tr>\n",
       "      <td>2</td>\n",
       "      <td>3</td>\n",
       "      <td>11889579</td>\n",
       "      <td>JC507635</td>\n",
       "      <td>2019-01-01</td>\n",
       "      <td>1562</td>\n",
       "      <td>AGGRAVATED CRIMINAL SEXUAL ABUSE</td>\n",
       "      <td>44</td>\n",
       "    </tr>\n",
       "    <tr>\n",
       "      <td>3</td>\n",
       "      <td>4</td>\n",
       "      <td>11836284</td>\n",
       "      <td>JC442862</td>\n",
       "      <td>2019-09-21</td>\n",
       "      <td>051A</td>\n",
       "      <td>AGGRAVATED - HANDGUN</td>\n",
       "      <td>25</td>\n",
       "    </tr>\n",
       "    <tr>\n",
       "      <td>4</td>\n",
       "      <td>5</td>\n",
       "      <td>11776789</td>\n",
       "      <td>JC371641</td>\n",
       "      <td>2019-07-30</td>\n",
       "      <td>041A</td>\n",
       "      <td>AGGRAVATED - HANDGUN</td>\n",
       "      <td>23</td>\n",
       "    </tr>\n",
       "  </tbody>\n",
       "</table>\n",
       "</div>"
      ],
      "text/plain": [
       "   PRIMARY_KEY        ID Case Number        Date  IUCR  \\\n",
       "0            1  11936545    JC565127  2019-12-30  0810   \n",
       "1            2  11927752    JC554073  2019-12-20  0334   \n",
       "2            3  11889579    JC507635  2019-01-01  1562   \n",
       "3            4  11836284    JC442862  2019-09-21  051A   \n",
       "4            5  11776789    JC371641  2019-07-30  041A   \n",
       "\n",
       "                                  Description Community Area  \n",
       "0                                   OVER $500              3  \n",
       "1  ATTEMPT ARMED - KNIFE / CUTTING INSTRUMENT             25  \n",
       "2            AGGRAVATED CRIMINAL SEXUAL ABUSE             44  \n",
       "3                        AGGRAVATED - HANDGUN             25  \n",
       "4                        AGGRAVATED - HANDGUN             23  "
      ]
     },
     "execution_count": 22,
     "metadata": {},
     "output_type": "execute_result"
    }
   ],
   "source": [
    "#Confirm data has been added by querying the chicago_crime_fact table\n",
    "pd.read_sql_query('select * from chicago_crime_fact', con=engine).head()"
   ]
  },
  {
   "cell_type": "code",
   "execution_count": 24,
   "metadata": {},
   "outputs": [],
   "source": [
    "#Load Dataframe into SQL police_station table\n",
    "stations_updated_df.to_sql(name='police_station', con=engine, if_exists='append', index=False)"
   ]
  },
  {
   "cell_type": "code",
   "execution_count": 25,
   "metadata": {},
   "outputs": [
    {
     "data": {
      "text/html": [
       "<div>\n",
       "<style scoped>\n",
       "    .dataframe tbody tr th:only-of-type {\n",
       "        vertical-align: middle;\n",
       "    }\n",
       "\n",
       "    .dataframe tbody tr th {\n",
       "        vertical-align: top;\n",
       "    }\n",
       "\n",
       "    .dataframe thead th {\n",
       "        text-align: right;\n",
       "    }\n",
       "</style>\n",
       "<table border=\"1\" class=\"dataframe\">\n",
       "  <thead>\n",
       "    <tr style=\"text-align: right;\">\n",
       "      <th></th>\n",
       "      <th>PRIMARY_KEY</th>\n",
       "      <th>DISTRICT</th>\n",
       "      <th>DISTRICT NAME</th>\n",
       "      <th>ADDRESS</th>\n",
       "      <th>WEBSITE</th>\n",
       "    </tr>\n",
       "  </thead>\n",
       "  <tbody>\n",
       "    <tr>\n",
       "      <td>0</td>\n",
       "      <td>1</td>\n",
       "      <td>Headquarters</td>\n",
       "      <td>Headquarters</td>\n",
       "      <td>3510 S Michigan Ave</td>\n",
       "      <td>http://home.chicagopolice.org</td>\n",
       "    </tr>\n",
       "    <tr>\n",
       "      <td>1</td>\n",
       "      <td>2</td>\n",
       "      <td>1</td>\n",
       "      <td>Central</td>\n",
       "      <td>1718 S State St</td>\n",
       "      <td>http://home.chicagopolice.org/community/distri...</td>\n",
       "    </tr>\n",
       "    <tr>\n",
       "      <td>2</td>\n",
       "      <td>3</td>\n",
       "      <td>6</td>\n",
       "      <td>Gresham</td>\n",
       "      <td>7808 S Halsted St</td>\n",
       "      <td>http://home.chicagopolice.org/community/distri...</td>\n",
       "    </tr>\n",
       "    <tr>\n",
       "      <td>3</td>\n",
       "      <td>4</td>\n",
       "      <td>11</td>\n",
       "      <td>Harrison</td>\n",
       "      <td>3151 W Harrison St</td>\n",
       "      <td>http://home.chicagopolice.org/community/distri...</td>\n",
       "    </tr>\n",
       "    <tr>\n",
       "      <td>4</td>\n",
       "      <td>5</td>\n",
       "      <td>16</td>\n",
       "      <td>Jefferson Park</td>\n",
       "      <td>5151 N Milwaukee Ave</td>\n",
       "      <td>http://home.chicagopolice.org/community/distri...</td>\n",
       "    </tr>\n",
       "  </tbody>\n",
       "</table>\n",
       "</div>"
      ],
      "text/plain": [
       "   PRIMARY_KEY      DISTRICT   DISTRICT NAME               ADDRESS  \\\n",
       "0            1  Headquarters    Headquarters   3510 S Michigan Ave   \n",
       "1            2             1         Central       1718 S State St   \n",
       "2            3             6         Gresham     7808 S Halsted St   \n",
       "3            4            11        Harrison    3151 W Harrison St   \n",
       "4            5            16  Jefferson Park  5151 N Milwaukee Ave   \n",
       "\n",
       "                                             WEBSITE  \n",
       "0                      http://home.chicagopolice.org  \n",
       "1  http://home.chicagopolice.org/community/distri...  \n",
       "2  http://home.chicagopolice.org/community/distri...  \n",
       "3  http://home.chicagopolice.org/community/distri...  \n",
       "4  http://home.chicagopolice.org/community/distri...  "
      ]
     },
     "execution_count": 25,
     "metadata": {},
     "output_type": "execute_result"
    }
   ],
   "source": [
    "#Confirm data has been added by querying the police_station table\n",
    "pd.read_sql_query('select * from police_station', con=engine).head()"
   ]
  },
  {
   "cell_type": "code",
   "execution_count": null,
   "metadata": {},
   "outputs": [],
   "source": []
  }
 ],
 "metadata": {
  "kernelspec": {
   "display_name": "Python 3",
   "language": "python",
   "name": "python3"
  },
  "language_info": {
   "codemirror_mode": {
    "name": "ipython",
    "version": 3
   },
   "file_extension": ".py",
   "mimetype": "text/x-python",
   "name": "python",
   "nbconvert_exporter": "python",
   "pygments_lexer": "ipython3",
   "version": "3.7.4"
  }
 },
 "nbformat": 4,
 "nbformat_minor": 2
}
